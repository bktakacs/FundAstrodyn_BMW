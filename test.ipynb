{
 "cells": [
  {
   "cell_type": "code",
   "execution_count": 1,
   "metadata": {},
   "outputs": [],
   "source": [
    "import numpy as np\n",
    "import matplotlib.pyplot as plt"
   ]
  },
  {
   "cell_type": "code",
   "execution_count": 3,
   "metadata": {},
   "outputs": [
    {
     "name": "stdout",
     "output_type": "stream",
     "text": [
      "[[1]\n",
      " [1]] (2, 1) int64\n"
     ]
    }
   ],
   "source": [
    "x = np.array([[1, 1]]).T\n",
    "print(x, x.shape, x.dtype)"
   ]
  },
  {
   "cell_type": "code",
   "execution_count": 4,
   "metadata": {},
   "outputs": [],
   "source": [
    "import numpy as np"
   ]
  },
  {
   "cell_type": "code",
   "execution_count": 5,
   "metadata": {},
   "outputs": [
    {
     "name": "stdout",
     "output_type": "stream",
     "text": [
      "[4 5]\n"
     ]
    }
   ],
   "source": [
    "x = np.array([1, 2])\n",
    "x += 3\n",
    "print(x)"
   ]
  },
  {
   "cell_type": "code",
   "execution_count": 10,
   "metadata": {},
   "outputs": [
    {
     "name": "stdout",
     "output_type": "stream",
     "text": [
      "8\n",
      "1\n"
     ]
    }
   ],
   "source": [
    "a = 2; b = 3\n",
    "x = lambda x: a + x * b\n",
    "\n",
    "print(x(2))\n",
    "\n",
    "a += -3; b += -2\n",
    "\n",
    "print(x(2))"
   ]
  },
  {
   "cell_type": "code",
   "execution_count": 9,
   "metadata": {},
   "outputs": [],
   "source": [
    "y = np.array(x)\n"
   ]
  },
  {
   "cell_type": "code",
   "execution_count": 10,
   "metadata": {},
   "outputs": [
    {
     "name": "stdout",
     "output_type": "stream",
     "text": [
      "[[1]\n",
      " [1]] int64 <class 'numpy.ndarray'>\n"
     ]
    }
   ],
   "source": [
    "print(y, y.dtype, type(y))"
   ]
  },
  {
   "cell_type": "code",
   "execution_count": 11,
   "metadata": {},
   "outputs": [
    {
     "name": "stdout",
     "output_type": "stream",
     "text": [
      "1\n"
     ]
    }
   ],
   "source": [
    "print(y[0][0])"
   ]
  },
  {
   "cell_type": "code",
   "execution_count": 3,
   "metadata": {},
   "outputs": [],
   "source": [
    "import numpy as np  \n",
    "# from _functions import orbitDetermThreePosVec\n",
    "\n",
    "r1 = np.array([[0, 0, 1]]).T\n",
    "r2 = np.array([[0, -0.7, -0.8]]).T\n",
    "r3 = np.array([[0, 0.9, 0.5]]).T\n",
    "\n",
    "# orbitDetermThreePosVec(r1, r2, r3)"
   ]
  },
  {
   "cell_type": "code",
   "execution_count": 36,
   "metadata": {},
   "outputs": [
    {
     "name": "stdout",
     "output_type": "stream",
     "text": [
      "8.06225774829855\n",
      "2 2\n"
     ]
    }
   ],
   "source": [
    "data = np.array([[2, 1], [3, 2]])\n",
    "x = data[:, 0]; y = data[:, 1]\n",
    "ie = np.array([2, 3])\n",
    "# print(x)\n",
    "\n",
    "input1 = \"lambda x: 1\"\n",
    "input2 = \"lambda x: x\"\n",
    "\n",
    "b = np.array([-7, -9])\n",
    "# print([x**2 for x in b])\n",
    "rms = np.sqrt(np.sum([x**2 for x in b]) / 2)\n",
    "print(rms)\n",
    "\n",
    "n = 2; p = 2\n",
    "a = np.zeros((n, p))\n",
    "pdes = [input1, input2]\n",
    "\n",
    "for index, val in enumerate(x):\n",
    "    for j in range(p):\n",
    "        a[index][j] = eval(pdes[j])(val)\n",
    "# print(a)\n",
    "\n",
    "ata = np.matmul(a.T, a)\n",
    "ata_inv = np.linalg.inv(ata)\n",
    "atb = np.matmul(a.T, b)\n",
    "# print(ata)\n",
    "# print(ata_inv)\n",
    "# print(atb)\n",
    "\n",
    "deltaz = np.matmul(ata_inv, atb)\n",
    "# print(deltaz)\n",
    "ie = ie + deltaz\n",
    "print(len(data), len(ie))"
   ]
  },
  {
   "cell_type": "code",
   "execution_count": 30,
   "metadata": {},
   "outputs": [],
   "source": [
    "a = 2\n",
    "b = 3\n",
    "\n",
    "y = lambda x: a + b * x"
   ]
  },
  {
   "cell_type": "code",
   "execution_count": null,
   "metadata": {},
   "outputs": [],
   "source": []
  }
 ],
 "metadata": {
  "kernelspec": {
   "display_name": "Python 3",
   "language": "python",
   "name": "python3"
  },
  "language_info": {
   "codemirror_mode": {
    "name": "ipython",
    "version": 3
   },
   "file_extension": ".py",
   "mimetype": "text/x-python",
   "name": "python",
   "nbconvert_exporter": "python",
   "pygments_lexer": "ipython3",
   "version": "3.10.4"
  }
 },
 "nbformat": 4,
 "nbformat_minor": 2
}
